{
  "nbformat": 4,
  "nbformat_minor": 0,
  "metadata": {
    "colab": {
      "provenance": [],
      "include_colab_link": true
    },
    "kernelspec": {
      "name": "python3",
      "display_name": "Python 3"
    },
    "language_info": {
      "name": "python"
    },
    "accelerator": "GPU",
    "gpuClass": "standard"
  },
  "cells": [
    {
      "cell_type": "markdown",
      "metadata": {
        "id": "view-in-github",
        "colab_type": "text"
      },
      "source": [
        "<a href=\"https://colab.research.google.com/github/FarhanKhan1/chatgpt_api/blob/main/QA_API.ipynb\" target=\"_parent\"><img src=\"https://colab.research.google.com/assets/colab-badge.svg\" alt=\"Open In Colab\"/></a>"
      ]
    },
    {
      "cell_type": "code",
      "source": [
        "!pip install openai"
      ],
      "metadata": {
        "id": "TyvoksaBGsOt"
      },
      "execution_count": null,
      "outputs": []
    },
    {
      "cell_type": "code",
      "source": [
        "import openai\n",
        "import json\n",
        "import random\n",
        "openai.api_key = \"your api key\"\n",
        "\n",
        "# No of questions to generate per section\n",
        "N=2"
      ],
      "metadata": {
        "id": "uvXefF40Gyr_"
      },
      "execution_count": null,
      "outputs": []
    },
    {
      "cell_type": "code",
      "source": [
        "section = \"\"\"What a blockchain does is to allow the data held in that database to be spread out among several network nodes at various locations. This not only creates redundancy but also maintains the fidelity of the data stored therein—if somebody tries to alter a record at one instance of the database, the other nodes would not be altered and thus would prevent a bad actor from doing so. If one user tampers with Bitcoin’s record of transactions, all other nodes would cross-reference each other and easily pinpoint the node with the incorrect information. This system helps to establish an exact and transparent order of events. This way, no single node within the network can alter information held within it.\"\"\""
      ],
      "metadata": {
        "id": "z8O3ki6xHoo8"
      },
      "execution_count": null,
      "outputs": []
    },
    {
      "cell_type": "code",
      "source": [
        "# response = openai.Completion.create(\n",
        "    \n",
        "#         model=\"text-davinci-003\",\n",
        "#         prompt=(f\"Please generate {N} questions and answers based on the following section: \\n\\n{section}\\n\\nQ&A:\"),\n",
        "#         temperature=0.6,\n",
        "#         max_tokens=1024,\n",
        "#         n=1,\n",
        "#     )\n",
        "\n",
        "response = openai.ChatCompletion.create(\n",
        "  model=\"gpt-3.5-turbo\", \n",
        "  messages=[{\"role\": \"user\", \"content\": f\"Please generate {N} questions and answers based on the following section: \\n\\n{section}\\n\\nQ&A:\"}]\n",
        ")\n"
      ],
      "metadata": {
        "id": "6qjAjvdWHNFA"
      },
      "execution_count": null,
      "outputs": []
    },
    {
      "cell_type": "code",
      "source": [
        "res= response['choices'][0]['message']['content']\n",
        "print(res) "
      ],
      "metadata": {
        "colab": {
          "base_uri": "https://localhost:8080/"
        },
        "id": "CEiZx2ruLJI3",
        "outputId": "f9793488-eee1-4062-a338-e11cabe3a786"
      },
      "execution_count": null,
      "outputs": [
        {
          "output_type": "stream",
          "name": "stdout",
          "text": [
            "\n",
            "\n",
            "1. What is the benefit of spreading data out among multiple network nodes in a blockchain?\n",
            "\n",
            "Answer: Spreading data out among multiple network nodes creates redundancy and maintains the fidelity of the data stored therein, preventing bad actors from altering records. \n",
            "\n",
            "2. How does a blockchain ensure that the information held within it cannot be altered by any single node in the network?\n",
            "\n",
            "Answer: The nodes in the network cross-reference each other, making it easy to pinpoint any node with incorrect information. This helps establish an exact and transparent order of events, preventing any single node from altering information held within it.\n"
          ]
        }
      ]
    },
    {
      "cell_type": "code",
      "source": [
        "\n",
        "import re\n",
        "pattern = r\"^\\d+\\.\\s*(.*)$\"\n",
        "\n",
        "questions = []\n",
        "answers = []\n",
        "\n",
        "for line in res.split('\\n'):\n",
        "    match = re.match(pattern, line)\n",
        "    if match:\n",
        "        questions.append(match.group(1))\n",
        "    elif line:\n",
        "        answers.append(line)\n",
        "        \n",
        "print(\"Questions:\", questions)\n",
        "print(\"Answers:\", answers)\n"
      ],
      "metadata": {
        "colab": {
          "base_uri": "https://localhost:8080/"
        },
        "id": "oqrd9NW_QZZ3",
        "outputId": "969bc943-4798-4e08-e7a5-18e3c8ab2589"
      },
      "execution_count": null,
      "outputs": [
        {
          "output_type": "stream",
          "name": "stdout",
          "text": [
            "Questions: ['What is the benefit of spreading data out among multiple network nodes in a blockchain?', 'How does a blockchain ensure that the information held within it cannot be altered by any single node in the network?']\n",
            "Answers: ['Answer: Spreading data out among multiple network nodes creates redundancy and maintains the fidelity of the data stored therein, preventing bad actors from altering records. ', 'Answer: The nodes in the network cross-reference each other, making it easy to pinpoint any node with incorrect information. This helps establish an exact and transparent order of events, preventing any single node from altering information held within it.']\n"
          ]
        }
      ]
    },
    {
      "cell_type": "code",
      "source": [
        "data_dict = {\n",
        "    \"Content\": {\"\"},\n",
        "    \"Questions\": {i+1: questions[i] for i in range(len(questions))},\n",
        "    \"Answers\": {i+1: answers[i] for i in range(len(answers))}\n",
        "}\n",
        "\n",
        "data_dict"
      ],
      "metadata": {
        "colab": {
          "base_uri": "https://localhost:8080/"
        },
        "id": "-jB9waUqRPt-",
        "outputId": "aa97f4f2-e579-419b-dc9f-4b144f472cc6"
      },
      "execution_count": null,
      "outputs": [
        {
          "output_type": "execute_result",
          "data": {
            "text/plain": [
              "{'Content': {''},\n",
              " 'Questions': {1: 'What is the benefit of spreading data out among multiple network nodes in a blockchain?',\n",
              "  2: 'How does a blockchain ensure that the information held within it cannot be altered by any single node in the network?'},\n",
              " 'Answers': {1: 'Answer: Spreading data out among multiple network nodes creates redundancy and maintains the fidelity of the data stored therein, preventing bad actors from altering records. ',\n",
              "  2: 'Answer: The nodes in the network cross-reference each other, making it easy to pinpoint any node with incorrect information. This helps establish an exact and transparent order of events, preventing any single node from altering information held within it.'}}"
            ]
          },
          "metadata": {},
          "execution_count": 22
        }
      ]
    }
  ]
}